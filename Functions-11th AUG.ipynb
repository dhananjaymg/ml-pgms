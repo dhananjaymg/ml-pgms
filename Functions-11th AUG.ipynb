{
 "cells": [
  {
   "cell_type": "code",
   "execution_count": null,
   "metadata": {},
   "outputs": [],
   "source": [
    "#functions "
   ]
  },
  {
   "cell_type": "code",
   "execution_count": null,
   "metadata": {},
   "outputs": [],
   "source": [
    "#def function_name(parameter):\n",
    "#print executable"
   ]
  },
  {
   "cell_type": "code",
   "execution_count": 2,
   "metadata": {},
   "outputs": [],
   "source": [
    "def myFun(param):\n",
    "    print('Yes param is this', param)"
   ]
  },
  {
   "cell_type": "code",
   "execution_count": 15,
   "metadata": {},
   "outputs": [
    {
     "name": "stdout",
     "output_type": "stream",
     "text": [
      "Yes param is this Function Prameter\n"
     ]
    }
   ],
   "source": [
    "myFun('Function Prameter')"
   ]
  },
  {
   "cell_type": "code",
   "execution_count": 16,
   "metadata": {},
   "outputs": [],
   "source": [
    "#multiplication Table using function\n",
    "\n",
    "def mulTable(value):\n",
    "    x=1\n",
    "    while x<=10:\n",
    "        print(value, ' x ', x , ' = ', value * x)\n",
    "        x = x + 1"
   ]
  },
  {
   "cell_type": "code",
   "execution_count": 17,
   "metadata": {
    "scrolled": true
   },
   "outputs": [
    {
     "name": "stdout",
     "output_type": "stream",
     "text": [
      "9  x  1  =  9\n",
      "9  x  2  =  18\n",
      "9  x  3  =  27\n",
      "9  x  4  =  36\n",
      "9  x  5  =  45\n",
      "9  x  6  =  54\n",
      "9  x  7  =  63\n",
      "9  x  8  =  72\n",
      "9  x  9  =  81\n",
      "9  x  10  =  90\n"
     ]
    }
   ],
   "source": [
    "mulTable(9)"
   ]
  },
  {
   "cell_type": "code",
   "execution_count": 24,
   "metadata": {},
   "outputs": [],
   "source": [
    "#MarkSheet and grade\n",
    "def markSheet(p,c,m,e,b):\n",
    "    sumOfMarks=p+c+m+e+b\n",
    "    total=sumOfMarks/5\n",
    "    if(total>=75):\n",
    "        print('Your are Grade A')\n",
    "    elif(total>=60):\n",
    "        print('Your are First Class')\n",
    "    elif(total>=50):\n",
    "        print('your are Second Class')\n",
    "    elif(total>=33):\n",
    "        print('you are Third class')\n",
    "    else:\n",
    "        print('Try next time, you have  Failed')\n",
    "    print('Total Marks:', sumOfMarks)\n",
    "    print('Your Percentage : ', total,'%')"
   ]
  },
  {
   "cell_type": "code",
   "execution_count": 25,
   "metadata": {
    "scrolled": true
   },
   "outputs": [
    {
     "name": "stdout",
     "output_type": "stream",
     "text": [
      "Your are First Class\n",
      "Total Marks: 372\n",
      "Your Percentage :  74.4 %\n"
     ]
    }
   ],
   "source": [
    "markSheet(65,87,66,56,98)"
   ]
  },
  {
   "cell_type": "code",
   "execution_count": 5,
   "metadata": {},
   "outputs": [],
   "source": [
    "#Reverse of a list\n",
    "\n",
    "def reverseOfNum(n):\n",
    "    x=n\n",
    "    while x>0:\n",
    "        print(x)\n",
    "        x=x-1\n"
   ]
  },
  {
   "cell_type": "code",
   "execution_count": 6,
   "metadata": {},
   "outputs": [
    {
     "name": "stdout",
     "output_type": "stream",
     "text": [
      "10\n",
      "9\n",
      "8\n",
      "7\n",
      "6\n",
      "5\n",
      "4\n",
      "3\n",
      "2\n",
      "1\n"
     ]
    }
   ],
   "source": [
    "reverseOfNum(10)"
   ]
  },
  {
   "cell_type": "code",
   "execution_count": null,
   "metadata": {},
   "outputs": [],
   "source": []
  }
 ],
 "metadata": {
  "kernelspec": {
   "display_name": "Python 3",
   "language": "python",
   "name": "python3"
  },
  "language_info": {
   "codemirror_mode": {
    "name": "ipython",
    "version": 3
   },
   "file_extension": ".py",
   "mimetype": "text/x-python",
   "name": "python",
   "nbconvert_exporter": "python",
   "pygments_lexer": "ipython3",
   "version": "3.6.5"
  }
 },
 "nbformat": 4,
 "nbformat_minor": 2
}
