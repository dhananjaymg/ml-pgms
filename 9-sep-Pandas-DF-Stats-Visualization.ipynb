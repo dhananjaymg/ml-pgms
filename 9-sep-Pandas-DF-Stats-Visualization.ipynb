{
 "cells": [
  {
   "cell_type": "code",
   "execution_count": 1,
   "metadata": {},
   "outputs": [],
   "source": [
    "#visualisation\n"
   ]
  },
  {
   "cell_type": "code",
   "execution_count": null,
   "metadata": {},
   "outputs": [],
   "source": [
    "# read CSV"
   ]
  },
  {
   "cell_type": "code",
   "execution_count": 3,
   "metadata": {},
   "outputs": [],
   "source": [
    "import numpy as np"
   ]
  },
  {
   "cell_type": "code",
   "execution_count": null,
   "metadata": {},
   "outputs": [],
   "source": [
    "varsicolor_petal = df('petal-length')\n",
    "n_data = len(varsicolor_petal)\n",
    "\n",
    "#calculate bins and THumb RULE is always sqrt of column length\n",
    "n_bins = np.sqrt(n_data)\n",
    "\n",
    "#calculate histogram\n",
    "_=plt.hist(varsicolor_petal, n_bins)\n",
    "\n",
    "#add labels\n",
    "\n",
    "_=plt.xlabel(\"Petal Length\")\n",
    "_=plt.ylabel(\"count\")\n",
    "\n",
    "#show histogram\n",
    "plt.show()\n",
    "\n",
    "\n"
   ]
  },
  {
   "cell_type": "code",
   "execution_count": null,
   "metadata": {},
   "outputs": [],
   "source": [
    "#Bee Swarm Plot %%!\n",
    "_=sns.swarmplot(x='satate', y=\"dem_share\", data=ds)\n",
    "plt.xlabel('State')\n",
    "plt.ylabel('no of votes')\n",
    "plt.show()"
   ]
  },
  {
   "cell_type": "code",
   "execution_count": null,
   "metadata": {},
   "outputs": [],
   "source": [
    "nnn"
   ]
  }
 ],
 "metadata": {
  "kernelspec": {
   "display_name": "Python 3",
   "language": "python",
   "name": "python3"
  },
  "language_info": {
   "codemirror_mode": {
    "name": "ipython",
    "version": 3
   },
   "file_extension": ".py",
   "mimetype": "text/x-python",
   "name": "python",
   "nbconvert_exporter": "python",
   "pygments_lexer": "ipython3",
   "version": "3.6.5"
  }
 },
 "nbformat": 4,
 "nbformat_minor": 2
}
