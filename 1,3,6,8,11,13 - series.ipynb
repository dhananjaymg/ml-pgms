{
 "cells": [
  {
   "cell_type": "code",
   "execution_count": null,
   "metadata": {},
   "outputs": [],
   "source": [
    "#list and for loop series"
   ]
  },
  {
   "cell_type": "code",
   "execution_count": 1,
   "metadata": {},
   "outputs": [
    {
     "name": "stdout",
     "output_type": "stream",
     "text": [
      "[1, 3, 6, 6, 8, 11, 11, 13, 16, 16, 18, 21, 21, 23, 26, 26, 28, 31, 31, 33, 36, 36, 38, 41, 41, 43, 46, 46, 48, 51, 51, 53, 56, 56, 58, 61, 61, 63, 66, 66, 68, 71, 71, 73, 76, 76, 78, 81, 81, 83, 86, 86, 88, 91, 91, 93, 96, 96, 98, 101, 101, 103, 106, 106, 108, 111, 111, 113, 116, 116, 118, 121, 121, 123, 126, 126, 128, 131, 131, 133, 136, 136, 138, 141, 141, 143, 146, 146, 148, 151, 151, 153, 156, 156, 158, 161, 161, 163, 166]\n"
     ]
    }
   ],
   "source": [
    "L=[]\n",
    "x = 1\n",
    "for i in range(0,33):\n",
    "    y=x+2\n",
    "    z=y+3\n",
    "    L.append(x)\n",
    "    L.append(y)\n",
    "    L.append(z)\n",
    "    x=z\n",
    "print(L)"
   ]
  },
  {
   "cell_type": "code",
   "execution_count": null,
   "metadata": {},
   "outputs": [],
   "source": []
  },
  {
   "cell_type": "code",
   "execution_count": null,
   "metadata": {},
   "outputs": [],
   "source": []
  }
 ],
 "metadata": {
  "kernelspec": {
   "display_name": "Python 3",
   "language": "python",
   "name": "python3"
  },
  "language_info": {
   "codemirror_mode": {
    "name": "ipython",
    "version": 3
   },
   "file_extension": ".py",
   "mimetype": "text/x-python",
   "name": "python",
   "nbconvert_exporter": "python",
   "pygments_lexer": "ipython3",
   "version": "3.6.5"
  }
 },
 "nbformat": 4,
 "nbformat_minor": 2
}
